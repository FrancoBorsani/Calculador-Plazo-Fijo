{
 "cells": [
  {
   "cell_type": "code",
   "execution_count": 69,
   "metadata": {},
   "outputs": [],
   "source": [
    "# SE INGRESA EL MONTO A FONDEAR, JUNTO CON EL INTERÉS ANUAL OTORGADO Y LOS MESES QUE SE DESEA DEJAR EL MONTO DEPOSITADO\n",
    "valor_presente = 220000\n",
    "interes_anual = 37\n",
    "periodos = 6 # EN MESES"
   ]
  },
  {
   "cell_type": "code",
   "execution_count": 70,
   "metadata": {},
   "outputs": [],
   "source": [
    "# CALCULAR EL INTERÉS MENSUAL\n",
    "f = lambda x, y: x*(y/100)*(1/12)"
   ]
  },
  {
   "cell_type": "code",
   "execution_count": 71,
   "metadata": {},
   "outputs": [],
   "source": [
    "def contarMeses(i, periodos, x):\n",
    "    if (i <= periodos):\n",
    "        x.append(i)\n",
    "        i = i + 1\n",
    "        return contarMeses(i, periodos, x)\n",
    "    return x"
   ]
  },
  {
   "cell_type": "code",
   "execution_count": 72,
   "metadata": {},
   "outputs": [],
   "source": [
    "def calcularInteresAcumulado(i, f, valor_presente, valor_acumulado, interes_anual, y):\n",
    "    if(i >= 2):\n",
    "        valor_acumulado = valor_acumulado + f(valor_presente, interes_anual)\n",
    "        y.append(valor_acumulado)\n",
    "        i = i - 1\n",
    "        return calcularInteresAcumulado(i, f, valor_presente, valor_acumulado, interes_anual, y)\n",
    "    return y"
   ]
  },
  {
   "cell_type": "code",
   "execution_count": 73,
   "metadata": {
    "scrolled": false
   },
   "outputs": [
    {
     "data": {
      "image/png": "[encoded data removed]",
      "text/plain": [
       "<Figure size 1440x288 with 1 Axes>"
      ]
     },
     "metadata": {
      "needs_background": "light"
     },
     "output_type": "display_data"
    },
    {
     "name": "stdout",
     "output_type": "stream",
     "text": [
      "Monto obtenido al final el plazo fijo de 6 meses: 260700.00000000006\n",
      "Intereses ganados: 40700.0 con un interés anual del 37%\n",
      "Ganancia mensual: 6783.33\n"
     ]
    }
   ],
   "source": [
    "import matplotlib.pyplot as plt\n",
    "from matplotlib.pyplot import figure\n",
    "\n",
    "# EJE X - MESES DEL PLAZO\n",
    "x = []\n",
    "\n",
    "# EJE Y - CONTENDRÁ EL MONTO CON LOS INTERESES ACUMULADOS\n",
    "y = []\n",
    "\n",
    "i = 1\n",
    "\n",
    "x = contarMeses(i, periodos, x)\n",
    "\n",
    "i = periodos + 1\n",
    "\n",
    "y = calcularInteresAcumulado(i, f, valor_presente, valor_presente, interes_anual, y)\n",
    "    \n",
    "# GENERAR LA FIGURA\n",
    "fig, ax = plt.subplots(figsize=(20,4))\n",
    "\n",
    "# NOMBRE DEL EJE X\n",
    "ax.set_ylabel('Monto')\n",
    "\n",
    "# NOMBRE DEL EJE Y\n",
    "ax.set_xlabel('Mes')\n",
    "  \n",
    "# TÍTULO DEL GRÁFICO\n",
    "ax.set_title(\"Calculador plazo fijo - tasa anual: \" + str(interes_anual) + \"%\")\n",
    "\n",
    "# COLOCAR VALOR EN EL PUNTO\n",
    "for a,b in zip(x, y): \n",
    "    ax.text(a, b, str(round(b, 2))) # CON 2 DECIMALES\n",
    "\n",
    "# GRÁFICO DE BARRAS VERTICALES\n",
    "ax.bar(x, y)\n",
    "\n",
    "# MOSTRAR GRÁFICO\n",
    "plt.show()\n",
    "\n",
    "\n",
    "print(\"Monto obtenido al final el plazo fijo de \" + str(periodos) + \" meses: \" + str(y.pop()))\n",
    "print(\"Intereses ganados: \" + str(f(valor_presente, interes_anual) * periodos ) + \" con un interés anual del \" + str(interes_anual) + \"%\")\n",
    "print(\"Ganancia mensual: \" + str(round((f(valor_presente, interes_anual)), 2)))"
   ]
  }
 ],
 "metadata": {
  "kernelspec": {
   "display_name": "Python 3",
   "language": "python",
   "name": "python3"
  },
  "language_info": {
   "codemirror_mode": {
    "name": "ipython",
    "version": 3
   },
   "file_extension": ".py",
   "mimetype": "text/x-python",
   "name": "python",
   "nbconvert_exporter": "python",
   "pygments_lexer": "ipython3",
   "version": "3.8.8"
  }
 },
 "nbformat": 4,
 "nbformat_minor": 4
}
